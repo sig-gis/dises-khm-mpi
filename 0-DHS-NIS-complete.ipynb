{
 "cells": [
  {
   "cell_type": "markdown",
   "id": "cc7928ed-1242-4da2-b4d6-1d4b0e53489b",
   "metadata": {},
   "source": [
    "# SAE estimations for MPI in Cambodia"
   ]
  },
  {
   "cell_type": "code",
   "execution_count": 192,
   "id": "d7496a59-bb4e-433b-a505-642f3ef67902",
   "metadata": {},
   "outputs": [],
   "source": [
    "#Imports  \n",
    "import pandas as pd\n",
    "import geopandas as gpd\n",
    "import os"
   ]
  },
  {
   "cell_type": "code",
   "execution_count": null,
   "id": "a7d23170-481d-4233-beac-c5fe028b10de",
   "metadata": {},
   "outputs": [],
   "source": [
    "#Parameters\n",
    "nis_year = 2006\n",
    "dhs_year = 2005\n",
    "\n",
    "#Load NIS information\n",
    "root_path = '/Users/Daniel/Library/CloudStorage/OneDrive-VestigiumMétodosMixtosAplicadosSAS/proyectos/DISES/'\n",
    "\n",
    "#This files contains the variable equivalence between the NIS and DHS datasets. \n",
    "common_variables_path = os.path.join(root_path, 'SAE/STATA DHS/common_variables.xlsx')\n",
    "common_variables = pd.read_excel(common_variables_path)"
   ]
  },
  {
   "cell_type": "markdown",
   "id": "b5333422-dbdb-4c62-ad05-d32795537717",
   "metadata": {},
   "source": [
    "### Load NIS data"
   ]
  },
  {
   "cell_type": "code",
   "execution_count": 195,
   "id": "22dffda0-181d-4be8-a4e6-df4dd9f9bd9e",
   "metadata": {},
   "outputs": [],
   "source": [
    "nis_raw_data_path = f'SAE/STATA DHS/Stata NIS data/NIS_Village/NIS{nis_year}_Village_Year_Coords.xlsx'\n",
    "nis_mpi_data_path = f'SAE/STATA DHS/Stata NIS data/MPI_NIS/MPI_NIS_{nis_year}.xlsx'\n",
    "\n",
    "nis_path = os.path.join(root_path, nis_mpi_data_path)\n",
    "nis_columns = common_variables['NIS_code'].to_list() #Only load the MPI related columns \n",
    "nis_columns = [x for x in nis_columns if not pd.isna(x)] #Drop nan to load the file properly\n",
    "nis = pd.read_excel(nis_path)#, usecols=nis_columns)"
   ]
  },
  {
   "cell_type": "code",
   "execution_count": 196,
   "id": "63926455-69e7-4508-8c71-b93f33c1ca51",
   "metadata": {},
   "outputs": [],
   "source": [
    "#Read villages shape file\n",
    "villages_path = os.path.join(root_path, 'SIG/DISES/Proximity/data/KHM-Villages/Villages.shp')\n",
    "villages = gpd.read_file(villages_path)"
   ]
  },
  {
   "cell_type": "code",
   "execution_count": 197,
   "id": "e105617a-3200-49fe-9027-d1afcce14c6d",
   "metadata": {},
   "outputs": [],
   "source": [
    "nis = villages[['PHUMCODE','geometry']].merge(nis, left_on='PHUMCODE', right_on='VillGis', how='right')"
   ]
  },
  {
   "cell_type": "code",
   "execution_count": 198,
   "id": "8702cef0-3262-438e-a5e2-01374c5e0ad0",
   "metadata": {},
   "outputs": [],
   "source": [
    "nis = nis[['PHUMCODE', \t'geometry'] + nis_columns]"
   ]
  },
  {
   "cell_type": "markdown",
   "id": "f86d5a62-1586-485e-a42d-18f0368145fa",
   "metadata": {},
   "source": [
    "### Load DHS data"
   ]
  },
  {
   "cell_type": "code",
   "execution_count": 199,
   "id": "f6f182f1-5889-408e-9e6f-72595a946ec6",
   "metadata": {},
   "outputs": [],
   "source": [
    "#Load DHS information\n",
    "dhs_path = os.path.join(root_path, 'SAE/STATA DHS/stata_code/data/MPI/khm_dhs05_cot/khm_dhs05.csv')\n",
    "dhs = pd.read_csv(dhs_path)"
   ]
  },
  {
   "cell_type": "code",
   "execution_count": 200,
   "id": "391f2d70-8b36-4fe6-8758-b00443be3a9d",
   "metadata": {},
   "outputs": [],
   "source": [
    "selected_dhs_variables = ['psu', 'strata', 'weight', 'd_cm', 'd_nutr',\n",
    "       'd_satt', 'd_educ', 'd_elct', 'd_wtr', 'd_sani', 'd_hsg', 'd_ckfl',\n",
    "       'd_asst', 'd_cm_01', 'd_nutr_01', 'd_satt_01', 'd_educ_01', 'd_elct_01',\n",
    "       'd_wtr_01', 'd_sani_01', 'd_hsg_01', 'd_ckfl_01', 'd_asst_01']"
   ]
  },
  {
   "cell_type": "code",
   "execution_count": 201,
   "id": "cb71aaaf-eb52-473a-aa77-5624b7705c0a",
   "metadata": {},
   "outputs": [],
   "source": [
    "#We use the average of the usehold level data to calculate the MPI variables\n",
    "dhs = dhs[selected_dhs_variables].groupby('psu', as_index=False).mean()"
   ]
  },
  {
   "cell_type": "code",
   "execution_count": 202,
   "id": "b65fe6b9-5f5f-497d-bfd2-bb82a03bd936",
   "metadata": {},
   "outputs": [],
   "source": [
    "#Attach cluster geometries to DHS cluster-level data (DHS)\n",
    "dhs_shape_path = os.path.join(root_path, 'SAE/MPI/mpi_khm_dhs05_hmn_clust_CI_mis/mpi_khm_dhs05_hmn_clust_CI_mis.shp')\n",
    "dhs_shape = gpd.read_file(dhs_shape_path)"
   ]
  },
  {
   "cell_type": "code",
   "execution_count": 203,
   "id": "99e9fa99-323e-4031-83e6-90a6880be1ac",
   "metadata": {},
   "outputs": [],
   "source": [
    "import numpy as np\n",
    "\n",
    "#Drop almos zero coordinates\n",
    "# Define a small threshold for \"almost zero\"\n",
    "epsilon = 1e-10\n",
    "\n",
    "# Filter out points near (0, 0)\n",
    "dhs_shape = dhs_shape[~(\n",
    "    (np.abs(dhs_shape.geometry.x) < epsilon) &\n",
    "    (np.abs(dhs_shape.geometry.y) < epsilon)\n",
    ")]"
   ]
  },
  {
   "cell_type": "code",
   "execution_count": 204,
   "id": "ddfcd6dd-13a1-44b4-bcca-af890b8cc198",
   "metadata": {},
   "outputs": [],
   "source": [
    "#Keep only the rural clusters\n",
    "dhs_shape = dhs_shape[dhs_shape['URBAN_RURA'] == 'R'] #Only rural clusters"
   ]
  },
  {
   "cell_type": "code",
   "execution_count": 205,
   "id": "0e72ca2c-73e4-43c2-8505-190b2cfd4488",
   "metadata": {},
   "outputs": [],
   "source": [
    "dhs = dhs_shape[['DHSCLUST', 'geometry']].merge(dhs, right_on='psu', left_on='DHSCLUST', how='left')"
   ]
  },
  {
   "cell_type": "code",
   "execution_count": 206,
   "id": "d989fef6-130f-450c-85d3-22914bf2827c",
   "metadata": {},
   "outputs": [
    {
     "data": {
      "text/html": [
       "<div>\n",
       "<style scoped>\n",
       "    .dataframe tbody tr th:only-of-type {\n",
       "        vertical-align: middle;\n",
       "    }\n",
       "\n",
       "    .dataframe tbody tr th {\n",
       "        vertical-align: top;\n",
       "    }\n",
       "\n",
       "    .dataframe thead th {\n",
       "        text-align: right;\n",
       "    }\n",
       "</style>\n",
       "<table border=\"1\" class=\"dataframe\">\n",
       "  <thead>\n",
       "    <tr style=\"text-align: right;\">\n",
       "      <th></th>\n",
       "      <th>Description</th>\n",
       "      <th>DHS_code</th>\n",
       "      <th>Description.1</th>\n",
       "      <th>NIS_code</th>\n",
       "      <th>DUMMY</th>\n",
       "    </tr>\n",
       "  </thead>\n",
       "  <tbody>\n",
       "    <tr>\n",
       "      <th>0</th>\n",
       "      <td>Household had no child mortality under 18 in t...</td>\n",
       "      <td>d_cm</td>\n",
       "      <td>Child mortality rate calculated as the proport...</td>\n",
       "      <td>523-C_MORT_RATE</td>\n",
       "      <td>536-C_MORT_DUM</td>\n",
       "    </tr>\n",
       "    <tr>\n",
       "      <th>1</th>\n",
       "      <td>Household has no individuals malnourished</td>\n",
       "      <td>d_nutr</td>\n",
       "      <td>NaN</td>\n",
       "      <td>NaN</td>\n",
       "      <td>NaN</td>\n",
       "    </tr>\n",
       "    <tr>\n",
       "      <th>2</th>\n",
       "      <td>Household has all school age children up to 8 ...</td>\n",
       "      <td>d_satt</td>\n",
       "      <td>NaN</td>\n",
       "      <td>NaN</td>\n",
       "      <td>NaN</td>\n",
       "    </tr>\n",
       "    <tr>\n",
       "      <th>3</th>\n",
       "      <td>Household has at least one member with 6 years...</td>\n",
       "      <td>d_educ</td>\n",
       "      <td>Illiterate population rate calculated as the p...</td>\n",
       "      <td>513-ILLITERATE_RATE</td>\n",
       "      <td>537-ILLIT_DUM</td>\n",
       "    </tr>\n",
       "    <tr>\n",
       "      <th>4</th>\n",
       "      <td>Household has electricity</td>\n",
       "      <td>d_elct</td>\n",
       "      <td>Household with electricity rate calculated as ...</td>\n",
       "      <td>534-LQ_ROOF_ELEC_RATE</td>\n",
       "      <td>540-HOUSE_ELEC_DUM</td>\n",
       "    </tr>\n",
       "    <tr>\n",
       "      <th>5</th>\n",
       "      <td>Household has roof, floor and walls that it is...</td>\n",
       "      <td>d_hsg</td>\n",
       "      <td>Low quality material roofs rate calculated as ...</td>\n",
       "      <td>NaN</td>\n",
       "      <td>NaN</td>\n",
       "    </tr>\n",
       "    <tr>\n",
       "      <th>6</th>\n",
       "      <td>Household has drinking water with MDG standards\\n</td>\n",
       "      <td>d_wtr</td>\n",
       "      <td>Rate of families with unimproved (pond, rivers...</td>\n",
       "      <td>517-UNIMPROV_WAT_RATE</td>\n",
       "      <td>538-UNIMPROV_WAT_DUM</td>\n",
       "    </tr>\n",
       "    <tr>\n",
       "      <th>7</th>\n",
       "      <td>Household has improved sanitation  with MDG St...</td>\n",
       "      <td>d_sani</td>\n",
       "      <td>Household with latrines rate calculated as the...</td>\n",
       "      <td>532-Sanit_Rate</td>\n",
       "      <td>539-SANIT_DUM</td>\n",
       "    </tr>\n",
       "    <tr>\n",
       "      <th>8</th>\n",
       "      <td>Household has cooking fuel by MDG standards</td>\n",
       "      <td>d_ckfl</td>\n",
       "      <td>NaN</td>\n",
       "      <td>NaN</td>\n",
       "      <td>NaN</td>\n",
       "    </tr>\n",
       "    <tr>\n",
       "      <th>9</th>\n",
       "      <td>Household Asset Ownership: HH has car or more ...</td>\n",
       "      <td>d_asst</td>\n",
       "      <td>Rate of assets owneship (mobility &amp; agricultur...</td>\n",
       "      <td>531-AGRI_ASSETS_RATE</td>\n",
       "      <td>NaN</td>\n",
       "    </tr>\n",
       "    <tr>\n",
       "      <th>10</th>\n",
       "      <td>Household Asset Ownership: HH has car or more ...</td>\n",
       "      <td>d_asst</td>\n",
       "      <td>Rate of assets owneship (mobility &amp; agricultur...</td>\n",
       "      <td>521-MOB_ASSETS_RATE</td>\n",
       "      <td>541-MOB_ASSETS_DUM</td>\n",
       "    </tr>\n",
       "    <tr>\n",
       "      <th>11</th>\n",
       "      <td>NaN</td>\n",
       "      <td>NaN</td>\n",
       "      <td>Average distance from the village to a Health ...</td>\n",
       "      <td>366-KM_Heal_cent</td>\n",
       "      <td>535-Heal_cent_DUM</td>\n",
       "    </tr>\n",
       "  </tbody>\n",
       "</table>\n",
       "</div>"
      ],
      "text/plain": [
       "                                          Description DHS_code  \\\n",
       "0   Household had no child mortality under 18 in t...     d_cm   \n",
       "1           Household has no individuals malnourished   d_nutr   \n",
       "2   Household has all school age children up to 8 ...   d_satt   \n",
       "3   Household has at least one member with 6 years...  d_educ    \n",
       "4                           Household has electricity   d_elct   \n",
       "5   Household has roof, floor and walls that it is...    d_hsg   \n",
       "6   Household has drinking water with MDG standards\\n    d_wtr   \n",
       "7   Household has improved sanitation  with MDG St...   d_sani   \n",
       "8         Household has cooking fuel by MDG standards   d_ckfl   \n",
       "9   Household Asset Ownership: HH has car or more ...   d_asst   \n",
       "10  Household Asset Ownership: HH has car or more ...   d_asst   \n",
       "11                                                NaN      NaN   \n",
       "\n",
       "                                        Description.1               NIS_code  \\\n",
       "0   Child mortality rate calculated as the proport...        523-C_MORT_RATE   \n",
       "1                                                 NaN                    NaN   \n",
       "2                                                 NaN                    NaN   \n",
       "3   Illiterate population rate calculated as the p...    513-ILLITERATE_RATE   \n",
       "4   Household with electricity rate calculated as ...  534-LQ_ROOF_ELEC_RATE   \n",
       "5   Low quality material roofs rate calculated as ...                    NaN   \n",
       "6   Rate of families with unimproved (pond, rivers...  517-UNIMPROV_WAT_RATE   \n",
       "7   Household with latrines rate calculated as the...         532-Sanit_Rate   \n",
       "8                                                 NaN                    NaN   \n",
       "9   Rate of assets owneship (mobility & agricultur...   531-AGRI_ASSETS_RATE   \n",
       "10  Rate of assets owneship (mobility & agricultur...    521-MOB_ASSETS_RATE   \n",
       "11  Average distance from the village to a Health ...       366-KM_Heal_cent   \n",
       "\n",
       "                   DUMMY  \n",
       "0         536-C_MORT_DUM  \n",
       "1                    NaN  \n",
       "2                    NaN  \n",
       "3          537-ILLIT_DUM  \n",
       "4     540-HOUSE_ELEC_DUM  \n",
       "5                    NaN  \n",
       "6   538-UNIMPROV_WAT_DUM  \n",
       "7          539-SANIT_DUM  \n",
       "8                    NaN  \n",
       "9                    NaN  \n",
       "10    541-MOB_ASSETS_DUM  \n",
       "11     535-Heal_cent_DUM  "
      ]
     },
     "execution_count": 206,
     "metadata": {},
     "output_type": "execute_result"
    }
   ],
   "source": [
    "#Import the dictionary with the common variables\n",
    "common_variables"
   ]
  },
  {
   "cell_type": "code",
   "execution_count": 207,
   "id": "f7ebc8ae-d148-4943-8fd6-1b80e9bfe347",
   "metadata": {},
   "outputs": [],
   "source": [
    "nis = nis[nis.geometry.notnull()] #Exclude null geometries"
   ]
  },
  {
   "cell_type": "code",
   "execution_count": 208,
   "id": "bd86180d-4282-4ae4-9793-27cac6827d43",
   "metadata": {},
   "outputs": [],
   "source": [
    "dhs = dhs.to_crs(nis.crs)"
   ]
  },
  {
   "cell_type": "code",
   "execution_count": 209,
   "id": "6261a112-3a8c-4c79-9813-ab87fc58aaa8",
   "metadata": {},
   "outputs": [],
   "source": [
    "dhs.to_file(f'data/mpi_underlying_nis/dhs-underlying-{dhs_year}.shp')"
   ]
  },
  {
   "cell_type": "code",
   "execution_count": 210,
   "id": "65aab6bc-d9cc-4ced-8c16-d4223d591bd4",
   "metadata": {},
   "outputs": [
    {
     "name": "stderr",
     "output_type": "stream",
     "text": [
      "/var/folders/wn/vzyjwy2x00q4stf523pr30jw0000gn/T/ipykernel_65478/3584320914.py:1: UserWarning: Column names longer than 10 characters will be truncated when saved to ESRI Shapefile.\n",
      "  nis.to_file(f'data/mpi_underlying_nis/nis-complete-{nis_year}.shp')\n",
      "/opt/anaconda3/envs/pymc_env/lib/python3.13/site-packages/pyogrio/raw.py:723: RuntimeWarning: Normalized/laundered field name: '523-C_MORT_RATE' to '523-C_MORT'\n",
      "  ogr_write(\n",
      "/opt/anaconda3/envs/pymc_env/lib/python3.13/site-packages/pyogrio/raw.py:723: RuntimeWarning: Normalized/laundered field name: '513-ILLITERATE_RATE' to '513-ILLITE'\n",
      "  ogr_write(\n",
      "/opt/anaconda3/envs/pymc_env/lib/python3.13/site-packages/pyogrio/raw.py:723: RuntimeWarning: Normalized/laundered field name: '534-LQ_ROOF_ELEC_RATE' to '534-LQ_ROO'\n",
      "  ogr_write(\n",
      "/opt/anaconda3/envs/pymc_env/lib/python3.13/site-packages/pyogrio/raw.py:723: RuntimeWarning: Normalized/laundered field name: '517-UNIMPROV_WAT_RATE' to '517-UNIMPR'\n",
      "  ogr_write(\n",
      "/opt/anaconda3/envs/pymc_env/lib/python3.13/site-packages/pyogrio/raw.py:723: RuntimeWarning: Normalized/laundered field name: '532-Sanit_Rate' to '532-Sanit_'\n",
      "  ogr_write(\n",
      "/opt/anaconda3/envs/pymc_env/lib/python3.13/site-packages/pyogrio/raw.py:723: RuntimeWarning: Normalized/laundered field name: '531-AGRI_ASSETS_RATE' to '531-AGRI_A'\n",
      "  ogr_write(\n",
      "/opt/anaconda3/envs/pymc_env/lib/python3.13/site-packages/pyogrio/raw.py:723: RuntimeWarning: Normalized/laundered field name: '521-MOB_ASSETS_RATE' to '521-MOB_AS'\n",
      "  ogr_write(\n",
      "/opt/anaconda3/envs/pymc_env/lib/python3.13/site-packages/pyogrio/raw.py:723: RuntimeWarning: Normalized/laundered field name: '366-KM_Heal_cent' to '366-KM_Hea'\n",
      "  ogr_write(\n"
     ]
    }
   ],
   "source": [
    "nis.to_file(f'data/mpi_underlying_nis/nis-complete-{nis_year}.shp')"
   ]
  },
  {
   "cell_type": "code",
   "execution_count": null,
   "id": "54b0ca0f-fb5b-4269-950f-d3bd9ef50ca3",
   "metadata": {},
   "outputs": [],
   "source": []
  }
 ],
 "metadata": {
  "kernelspec": {
   "display_name": "Python 3 (ipykernel)",
   "language": "python",
   "name": "python3"
  },
  "language_info": {
   "codemirror_mode": {
    "name": "ipython",
    "version": 3
   },
   "file_extension": ".py",
   "mimetype": "text/x-python",
   "name": "python",
   "nbconvert_exporter": "python",
   "pygments_lexer": "ipython3",
   "version": "3.13.3"
  }
 },
 "nbformat": 4,
 "nbformat_minor": 5
}
